{
 "cells": [
  {
   "cell_type": "markdown",
   "metadata": {},
   "source": [
    "# 1.0 Importing and Cleaning Data\n",
    "\n",
    "Data retrieved from https://data.oaklandca.gov/Infrastructure/Service-requests-received-by-the-Oakland-Call-Cent/quth-gb8e <br>\n",
    "Our goal is to take a deep dive into this data to discover any trends and identify and potential areas that need improvement."
   ]
  },
  {
   "cell_type": "markdown",
   "metadata": {},
   "source": [
    "### Data Legend\n",
    "REQUESTID = The service request number. This should be shown as an integer without decimals. 5-digit REQUESTIDs were imported from the Recycling Hotline’s prior tracking system when they switched to the same system as the Oakland Call Center in August 2012. All others are 6 digits.\n",
    "\n",
    "DATETIMEINIT = The Date that the request was initiated.\n",
    "\n",
    "SOURCE = Indicates if the request was received via SeeClickFix or the OAK 311 mobile app, via the legacy Report A Problem website, or via (Phone or Email).\n",
    "\n",
    "DESCRIPTION = Type of issue. Most of these are self-explanatory. Notes: “test template” and “This is a test subject. Ignore this ticket.” were for testing/training purposes only. Descriptions starting with “Business” “City Services” “CityBldg” (no space) “Events” “Misc” are/were used by the Recycling Hotline “TE” means “Traffic Engineering”\n",
    "\n",
    "REQCATEGORY = Request Category\n",
    "\n",
    "REQADDRESS = Request Address An address of ZZ indicates that the address was not recorded, usually this is for general inquiries to the Recycling Hotline.\n",
    "\n",
    "\n",
    "STATUS = The status as of date of upload. PENDING: Request received for review OPEN: Request assigned to work unit WOCREATE: Work Order created for work to be done (not all work units use this status, so Open service requests may also have work orders created for work to be done) CLOSED: Request is resolved REFERRED: Oakland Call Center received the request and forwarded it to another entity (see REFERREDTO) UNFUNDED: Request is for an service that the City is not funded to provide CANCEL: Request was canceled, generally because it was created erroneously, it was used for testing/training, or it is a request that was received that duplicated an existing unresolved request WAITING ON CUSTOMER: Request involves a process where customer needs to provide information requested by staff EVALUATED - NO FURTHER ACTION: Staff has evaluated the service request and no further action will be taken (e.g., limited resources, temporary issue, staff alerted to ongoing issue, professional judgement says to leave situation as-is, unable to provide requested action) GONE ON ARRIVAL: Staff went to location and was unable to verify the issue\n",
    "\n",
    "DATETIMECLOSED = The Date that the request was closed\n",
    "\n",
    "SRX, SRY= Coordinates of the issue. Note that this is in NAD_1983_StatePlane_California_III_FIPS_0403_Feet, not latitude/longitude.\n",
    "\n",
    "REFERREDTO = If the status is Referred, this shows who it was referred to.\n",
    "\n",
    "COUNCILDISTRICT = City Council District of the REQADDRESS.\n",
    "\n",
    "BEAT = Police Beat of the REQADDRESS (see http://mapgis.oaklandnet.com/PoliceDistricts/ for a map of police beats)\n",
    "Less"
   ]
  },
  {
   "cell_type": "code",
   "execution_count": 1,
   "metadata": {},
   "outputs": [],
   "source": [
    "import numpy as np\n",
    "import pandas as pd\n",
    "import matplotlib.pyplot as plt\n",
    "import scipy.stats as st"
   ]
  },
  {
   "cell_type": "code",
   "execution_count": 2,
   "metadata": {},
   "outputs": [],
   "source": [
    "df = pd.read_csv('service_requests.csv', index_col='DATETIMEINIT', parse_dates=[0])"
   ]
  },
  {
   "cell_type": "code",
   "execution_count": 3,
   "metadata": {},
   "outputs": [
    {
     "data": {
      "text/html": [
       "<div>\n",
       "<style scoped>\n",
       "    .dataframe tbody tr th:only-of-type {\n",
       "        vertical-align: middle;\n",
       "    }\n",
       "\n",
       "    .dataframe tbody tr th {\n",
       "        vertical-align: top;\n",
       "    }\n",
       "\n",
       "    .dataframe thead th {\n",
       "        text-align: right;\n",
       "    }\n",
       "</style>\n",
       "<table border=\"1\" class=\"dataframe\">\n",
       "  <thead>\n",
       "    <tr style=\"text-align: right;\">\n",
       "      <th></th>\n",
       "      <th>REQUESTID</th>\n",
       "      <th>SOURCE</th>\n",
       "      <th>DESCRIPTION</th>\n",
       "      <th>REQCATEGORY</th>\n",
       "      <th>REQADDRESS</th>\n",
       "      <th>STATUS</th>\n",
       "      <th>REFERREDTO</th>\n",
       "      <th>DATETIMECLOSED</th>\n",
       "      <th>SRX</th>\n",
       "      <th>SRY</th>\n",
       "      <th>COUNCILDISTRICT</th>\n",
       "      <th>BEAT</th>\n",
       "      <th>PROBADDRESS</th>\n",
       "      <th>City</th>\n",
       "      <th>State</th>\n",
       "    </tr>\n",
       "    <tr>\n",
       "      <th>DATETIMEINIT</th>\n",
       "      <th></th>\n",
       "      <th></th>\n",
       "      <th></th>\n",
       "      <th></th>\n",
       "      <th></th>\n",
       "      <th></th>\n",
       "      <th></th>\n",
       "      <th></th>\n",
       "      <th></th>\n",
       "      <th></th>\n",
       "      <th></th>\n",
       "      <th></th>\n",
       "      <th></th>\n",
       "      <th></th>\n",
       "      <th></th>\n",
       "    </tr>\n",
       "  </thead>\n",
       "  <tbody>\n",
       "    <tr>\n",
       "      <th>05/04/2020 02:30:20 PM</th>\n",
       "      <td>1006885</td>\n",
       "      <td>SeeClickFix</td>\n",
       "      <td>Illegal Dumping - debris, appliances, etc.</td>\n",
       "      <td>ILLDUMP</td>\n",
       "      <td>(37.776827186500626, -122.20229629081079)</td>\n",
       "      <td>CLOSED</td>\n",
       "      <td>NaN</td>\n",
       "      <td>05/05/2020 08:32:17 PM</td>\n",
       "      <td>6.069706e+06</td>\n",
       "      <td>2.109797e+06</td>\n",
       "      <td>CCD4</td>\n",
       "      <td>27X</td>\n",
       "      <td>4910 CONGRESS AVE</td>\n",
       "      <td>Oakland</td>\n",
       "      <td>CA</td>\n",
       "    </tr>\n",
       "    <tr>\n",
       "      <th>05/19/2020 04:10:50 PM</th>\n",
       "      <td>1011203</td>\n",
       "      <td>Phone or Email</td>\n",
       "      <td>Tree - Other/Complex</td>\n",
       "      <td>TREES</td>\n",
       "      <td>NaN</td>\n",
       "      <td>UNFUNDED</td>\n",
       "      <td>NaN</td>\n",
       "      <td>NaN</td>\n",
       "      <td>NaN</td>\n",
       "      <td>NaN</td>\n",
       "      <td>NaN</td>\n",
       "      <td>NaN</td>\n",
       "      <td>975 West Grand Avenue</td>\n",
       "      <td>Oakland</td>\n",
       "      <td>CA</td>\n",
       "    </tr>\n",
       "    <tr>\n",
       "      <th>04/14/2020 06:25:27 PM</th>\n",
       "      <td>1002134</td>\n",
       "      <td>Phone or Email</td>\n",
       "      <td>Parking - Abandoned Vehicle</td>\n",
       "      <td>POLICE</td>\n",
       "      <td>(37.81049743844825, -122.2763000836974)</td>\n",
       "      <td>CLOSED</td>\n",
       "      <td>NaN</td>\n",
       "      <td>04/14/2020 06:59:36 PM</td>\n",
       "      <td>6.048554e+06</td>\n",
       "      <td>2.122452e+06</td>\n",
       "      <td>CCD3</td>\n",
       "      <td>05X</td>\n",
       "      <td>750 19TH ST</td>\n",
       "      <td>Oakland</td>\n",
       "      <td>CA</td>\n",
       "    </tr>\n",
       "    <tr>\n",
       "      <th>04/17/2020 08:58:20 PM</th>\n",
       "      <td>1002970</td>\n",
       "      <td>SeeClickFix</td>\n",
       "      <td>Streets - Potholes/Depression</td>\n",
       "      <td>STREETSW</td>\n",
       "      <td>(37.807848000931806, -122.21635949886752)</td>\n",
       "      <td>CANCEL</td>\n",
       "      <td>NaN</td>\n",
       "      <td>NaN</td>\n",
       "      <td>6.065849e+06</td>\n",
       "      <td>2.121164e+06</td>\n",
       "      <td>CCD5</td>\n",
       "      <td>16Y</td>\n",
       "      <td>1374 EL CENTRO AVE</td>\n",
       "      <td>Oakland</td>\n",
       "      <td>CA</td>\n",
       "    </tr>\n",
       "    <tr>\n",
       "      <th>04/16/2020 03:33:13 PM</th>\n",
       "      <td>1002653</td>\n",
       "      <td>Phone</td>\n",
       "      <td>Illegal Dumping - debris, appliances, etc.</td>\n",
       "      <td>ILLDUMP</td>\n",
       "      <td>(37.81001053781014, -122.29501913005603)</td>\n",
       "      <td>CLOSED</td>\n",
       "      <td>NaN</td>\n",
       "      <td>04/19/2020 07:50:04 PM</td>\n",
       "      <td>6.043144e+06</td>\n",
       "      <td>2.122378e+06</td>\n",
       "      <td>CCD3</td>\n",
       "      <td>02Y</td>\n",
       "      <td>12TH ST &amp; PERALTA ST</td>\n",
       "      <td>Oakland</td>\n",
       "      <td>CA</td>\n",
       "    </tr>\n",
       "  </tbody>\n",
       "</table>\n",
       "</div>"
      ],
      "text/plain": [
       "                       REQUESTID          SOURCE  \\\n",
       "DATETIMEINIT                                       \n",
       "05/04/2020 02:30:20 PM   1006885     SeeClickFix   \n",
       "05/19/2020 04:10:50 PM   1011203  Phone or Email   \n",
       "04/14/2020 06:25:27 PM   1002134  Phone or Email   \n",
       "04/17/2020 08:58:20 PM   1002970     SeeClickFix   \n",
       "04/16/2020 03:33:13 PM   1002653           Phone   \n",
       "\n",
       "                                                       DESCRIPTION  \\\n",
       "DATETIMEINIT                                                         \n",
       "05/04/2020 02:30:20 PM  Illegal Dumping - debris, appliances, etc.   \n",
       "05/19/2020 04:10:50 PM                        Tree - Other/Complex   \n",
       "04/14/2020 06:25:27 PM                 Parking - Abandoned Vehicle   \n",
       "04/17/2020 08:58:20 PM               Streets - Potholes/Depression   \n",
       "04/16/2020 03:33:13 PM  Illegal Dumping - debris, appliances, etc.   \n",
       "\n",
       "                       REQCATEGORY                                 REQADDRESS  \\\n",
       "DATETIMEINIT                                                                    \n",
       "05/04/2020 02:30:20 PM     ILLDUMP  (37.776827186500626, -122.20229629081079)   \n",
       "05/19/2020 04:10:50 PM       TREES                                        NaN   \n",
       "04/14/2020 06:25:27 PM      POLICE    (37.81049743844825, -122.2763000836974)   \n",
       "04/17/2020 08:58:20 PM    STREETSW  (37.807848000931806, -122.21635949886752)   \n",
       "04/16/2020 03:33:13 PM     ILLDUMP   (37.81001053781014, -122.29501913005603)   \n",
       "\n",
       "                          STATUS REFERREDTO          DATETIMECLOSED  \\\n",
       "DATETIMEINIT                                                          \n",
       "05/04/2020 02:30:20 PM    CLOSED        NaN  05/05/2020 08:32:17 PM   \n",
       "05/19/2020 04:10:50 PM  UNFUNDED        NaN                     NaN   \n",
       "04/14/2020 06:25:27 PM    CLOSED        NaN  04/14/2020 06:59:36 PM   \n",
       "04/17/2020 08:58:20 PM    CANCEL        NaN                     NaN   \n",
       "04/16/2020 03:33:13 PM    CLOSED        NaN  04/19/2020 07:50:04 PM   \n",
       "\n",
       "                                 SRX           SRY COUNCILDISTRICT BEAT  \\\n",
       "DATETIMEINIT                                                              \n",
       "05/04/2020 02:30:20 PM  6.069706e+06  2.109797e+06            CCD4  27X   \n",
       "05/19/2020 04:10:50 PM           NaN           NaN             NaN  NaN   \n",
       "04/14/2020 06:25:27 PM  6.048554e+06  2.122452e+06            CCD3  05X   \n",
       "04/17/2020 08:58:20 PM  6.065849e+06  2.121164e+06            CCD5  16Y   \n",
       "04/16/2020 03:33:13 PM  6.043144e+06  2.122378e+06            CCD3  02Y   \n",
       "\n",
       "                                  PROBADDRESS     City State  \n",
       "DATETIMEINIT                                                  \n",
       "05/04/2020 02:30:20 PM      4910 CONGRESS AVE  Oakland    CA  \n",
       "05/19/2020 04:10:50 PM  975 West Grand Avenue  Oakland    CA  \n",
       "04/14/2020 06:25:27 PM            750 19TH ST  Oakland    CA  \n",
       "04/17/2020 08:58:20 PM     1374 EL CENTRO AVE  Oakland    CA  \n",
       "04/16/2020 03:33:13 PM   12TH ST & PERALTA ST  Oakland    CA  "
      ]
     },
     "execution_count": 3,
     "metadata": {},
     "output_type": "execute_result"
    }
   ],
   "source": [
    "df.head()"
   ]
  },
  {
   "cell_type": "code",
   "execution_count": 4,
   "metadata": {},
   "outputs": [
    {
     "data": {
      "text/plain": [
       "Index(['REQUESTID', 'SOURCE', 'DESCRIPTION', 'REQCATEGORY', 'REQADDRESS',\n",
       "       'STATUS', 'REFERREDTO', 'DATETIMECLOSED', 'SRX', 'SRY',\n",
       "       'COUNCILDISTRICT', 'BEAT', 'PROBADDRESS', 'City', 'State'],\n",
       "      dtype='object')"
      ]
     },
     "execution_count": 4,
     "metadata": {},
     "output_type": "execute_result"
    }
   ],
   "source": [
    "df.columns"
   ]
  },
  {
   "cell_type": "code",
   "execution_count": 5,
   "metadata": {},
   "outputs": [],
   "source": [
    "df.columns = ['request_id', 'source', 'description', 'category', 'req_address', 'status', 'ref_to', \n",
    "             'date_closed', 'srx', 'sry', 'council_district', 'beat', 'prob_address', 'city', 'state']"
   ]
  },
  {
   "cell_type": "markdown",
   "metadata": {},
   "source": [
    "## 1.1 Getting to Know the Data"
   ]
  },
  {
   "cell_type": "code",
   "execution_count": 6,
   "metadata": {},
   "outputs": [
    {
     "name": "stdout",
     "output_type": "stream",
     "text": [
      "<class 'pandas.core.frame.DataFrame'>\n",
      "Index: 769939 entries, 05/04/2020 02:30:20 PM to 03/31/2020 01:53:04 PM\n",
      "Data columns (total 15 columns):\n",
      " #   Column            Non-Null Count   Dtype  \n",
      "---  ------            --------------   -----  \n",
      " 0   request_id        769939 non-null  object \n",
      " 1   source            769939 non-null  object \n",
      " 2   description       769939 non-null  object \n",
      " 3   category          769859 non-null  object \n",
      " 4   req_address       755997 non-null  object \n",
      " 5   status            769939 non-null  object \n",
      " 6   ref_to            65357 non-null   object \n",
      " 7   date_closed       556666 non-null  object \n",
      " 8   srx               755997 non-null  float64\n",
      " 9   sry               755997 non-null  float64\n",
      " 10  council_district  730549 non-null  object \n",
      " 11  beat              732549 non-null  object \n",
      " 12  prob_address      769471 non-null  object \n",
      " 13  city              769939 non-null  object \n",
      " 14  state             769939 non-null  object \n",
      "dtypes: float64(2), object(13)\n",
      "memory usage: 94.0+ MB\n"
     ]
    }
   ],
   "source": [
    "df.info()"
   ]
  },
  {
   "cell_type": "markdown",
   "metadata": {},
   "source": [
    "Since all the data is stored as objects, it doesn't make sense to do much additional exploration at this point. Instead, I will proceed to clean the data."
   ]
  },
  {
   "cell_type": "markdown",
   "metadata": {},
   "source": [
    "## 1.2 Cleaning Data"
   ]
  },
  {
   "cell_type": "code",
   "execution_count": 7,
   "metadata": {},
   "outputs": [],
   "source": [
    "df.sort_values(by='DATETIMEINIT', inplace=True)"
   ]
  },
  {
   "cell_type": "code",
   "execution_count": 8,
   "metadata": {},
   "outputs": [],
   "source": [
    "# Since srx and sry are localation information unique to California, we can drop this information for our purposes\n",
    "df.drop(['srx', 'sry'], axis=1, inplace=True)"
   ]
  },
  {
   "cell_type": "code",
   "execution_count": 9,
   "metadata": {},
   "outputs": [
    {
     "data": {
      "text/html": [
       "<div>\n",
       "<style scoped>\n",
       "    .dataframe tbody tr th:only-of-type {\n",
       "        vertical-align: middle;\n",
       "    }\n",
       "\n",
       "    .dataframe tbody tr th {\n",
       "        vertical-align: top;\n",
       "    }\n",
       "\n",
       "    .dataframe thead th {\n",
       "        text-align: right;\n",
       "    }\n",
       "</style>\n",
       "<table border=\"1\" class=\"dataframe\">\n",
       "  <thead>\n",
       "    <tr style=\"text-align: right;\">\n",
       "      <th></th>\n",
       "      <th>request_id</th>\n",
       "      <th>source</th>\n",
       "      <th>description</th>\n",
       "      <th>category</th>\n",
       "      <th>req_address</th>\n",
       "      <th>status</th>\n",
       "      <th>ref_to</th>\n",
       "      <th>date_closed</th>\n",
       "      <th>council_district</th>\n",
       "      <th>beat</th>\n",
       "      <th>prob_address</th>\n",
       "      <th>city</th>\n",
       "      <th>state</th>\n",
       "    </tr>\n",
       "    <tr>\n",
       "      <th>DATETIMEINIT</th>\n",
       "      <th></th>\n",
       "      <th></th>\n",
       "      <th></th>\n",
       "      <th></th>\n",
       "      <th></th>\n",
       "      <th></th>\n",
       "      <th></th>\n",
       "      <th></th>\n",
       "      <th></th>\n",
       "      <th></th>\n",
       "      <th></th>\n",
       "      <th></th>\n",
       "      <th></th>\n",
       "    </tr>\n",
       "  </thead>\n",
       "  <tbody>\n",
       "    <tr>\n",
       "      <th>12/31/2020 12:50:52 PM</th>\n",
       "      <td>1077512</td>\n",
       "      <td>Phone</td>\n",
       "      <td>Engineering - Other/Complex</td>\n",
       "      <td>OTHER</td>\n",
       "      <td>(37.72874098936146, -122.17678506624787)</td>\n",
       "      <td>OPEN</td>\n",
       "      <td>NaN</td>\n",
       "      <td>NaN</td>\n",
       "      <td>CCD7</td>\n",
       "      <td>31Z</td>\n",
       "      <td>10803 ESTEPA DR</td>\n",
       "      <td>Oakland</td>\n",
       "      <td>CA</td>\n",
       "    </tr>\n",
       "    <tr>\n",
       "      <th>12/31/2020 12:52:49 PM</th>\n",
       "      <td>1077513</td>\n",
       "      <td>SeeClickFix</td>\n",
       "      <td>Parking - Abandoned Vehicle</td>\n",
       "      <td>POLICE</td>\n",
       "      <td>(37.8441146083377, -122.24546235754546)</td>\n",
       "      <td>OPEN</td>\n",
       "      <td>NaN</td>\n",
       "      <td>NaN</td>\n",
       "      <td>CCD1</td>\n",
       "      <td>13X</td>\n",
       "      <td>6043 LAWTON AVE</td>\n",
       "      <td>Oakland</td>\n",
       "      <td>CA</td>\n",
       "    </tr>\n",
       "    <tr>\n",
       "      <th>12/31/2020 12:55:38 PM</th>\n",
       "      <td>1077514</td>\n",
       "      <td>SeeClickFix</td>\n",
       "      <td>Parking - Abandoned Vehicle</td>\n",
       "      <td>POLICE</td>\n",
       "      <td>(37.79396333014077, -122.2130133271437)</td>\n",
       "      <td>CANCEL</td>\n",
       "      <td>NaN</td>\n",
       "      <td>NaN</td>\n",
       "      <td>CCD5</td>\n",
       "      <td>21Y</td>\n",
       "      <td>3146 COOLIDGE AVE</td>\n",
       "      <td>Oakland</td>\n",
       "      <td>CA</td>\n",
       "    </tr>\n",
       "    <tr>\n",
       "      <th>12/31/2020 12:58:35 PM</th>\n",
       "      <td>1077515</td>\n",
       "      <td>SeeClickFix</td>\n",
       "      <td>Parking - Abandoned Vehicle</td>\n",
       "      <td>POLICE</td>\n",
       "      <td>(37.790390435015894, -122.25212183491203)</td>\n",
       "      <td>OPEN</td>\n",
       "      <td>NaN</td>\n",
       "      <td>NaN</td>\n",
       "      <td>CCD2</td>\n",
       "      <td>19X</td>\n",
       "      <td>1025 10TH AVE</td>\n",
       "      <td>Oakland</td>\n",
       "      <td>CA</td>\n",
       "    </tr>\n",
       "    <tr>\n",
       "      <th>12/31/2020 12:59:06 PM</th>\n",
       "      <td>1077516</td>\n",
       "      <td>Email</td>\n",
       "      <td>Trash - Missed Pickup</td>\n",
       "      <td>RECYCLING</td>\n",
       "      <td>(37.79269629540023, -122.25261754487526)</td>\n",
       "      <td>CLOSED</td>\n",
       "      <td>NaN</td>\n",
       "      <td>12/31/2020 01:53:05 PM</td>\n",
       "      <td>CCD2</td>\n",
       "      <td>19X</td>\n",
       "      <td>1171 8TH AVE</td>\n",
       "      <td>Oakland</td>\n",
       "      <td>CA</td>\n",
       "    </tr>\n",
       "  </tbody>\n",
       "</table>\n",
       "</div>"
      ],
      "text/plain": [
       "                       request_id       source                  description  \\\n",
       "DATETIMEINIT                                                                  \n",
       "12/31/2020 12:50:52 PM    1077512        Phone  Engineering - Other/Complex   \n",
       "12/31/2020 12:52:49 PM    1077513  SeeClickFix  Parking - Abandoned Vehicle   \n",
       "12/31/2020 12:55:38 PM    1077514  SeeClickFix  Parking - Abandoned Vehicle   \n",
       "12/31/2020 12:58:35 PM    1077515  SeeClickFix  Parking - Abandoned Vehicle   \n",
       "12/31/2020 12:59:06 PM    1077516        Email        Trash - Missed Pickup   \n",
       "\n",
       "                         category                                req_address  \\\n",
       "DATETIMEINIT                                                                   \n",
       "12/31/2020 12:50:52 PM      OTHER   (37.72874098936146, -122.17678506624787)   \n",
       "12/31/2020 12:52:49 PM     POLICE    (37.8441146083377, -122.24546235754546)   \n",
       "12/31/2020 12:55:38 PM     POLICE    (37.79396333014077, -122.2130133271437)   \n",
       "12/31/2020 12:58:35 PM     POLICE  (37.790390435015894, -122.25212183491203)   \n",
       "12/31/2020 12:59:06 PM  RECYCLING   (37.79269629540023, -122.25261754487526)   \n",
       "\n",
       "                        status ref_to             date_closed  \\\n",
       "DATETIMEINIT                                                    \n",
       "12/31/2020 12:50:52 PM    OPEN    NaN                     NaN   \n",
       "12/31/2020 12:52:49 PM    OPEN    NaN                     NaN   \n",
       "12/31/2020 12:55:38 PM  CANCEL    NaN                     NaN   \n",
       "12/31/2020 12:58:35 PM    OPEN    NaN                     NaN   \n",
       "12/31/2020 12:59:06 PM  CLOSED    NaN  12/31/2020 01:53:05 PM   \n",
       "\n",
       "                       council_district beat       prob_address     city state  \n",
       "DATETIMEINIT                                                                    \n",
       "12/31/2020 12:50:52 PM             CCD7  31Z    10803 ESTEPA DR  Oakland    CA  \n",
       "12/31/2020 12:52:49 PM             CCD1  13X    6043 LAWTON AVE  Oakland    CA  \n",
       "12/31/2020 12:55:38 PM             CCD5  21Y  3146 COOLIDGE AVE  Oakland    CA  \n",
       "12/31/2020 12:58:35 PM             CCD2  19X      1025 10TH AVE  Oakland    CA  \n",
       "12/31/2020 12:59:06 PM             CCD2  19X       1171 8TH AVE  Oakland    CA  "
      ]
     },
     "execution_count": 9,
     "metadata": {},
     "output_type": "execute_result"
    }
   ],
   "source": [
    "df.tail()"
   ]
  },
  {
   "cell_type": "code",
   "execution_count": 10,
   "metadata": {},
   "outputs": [
    {
     "data": {
      "text/plain": [
       "Oakland    769939\n",
       "Name: city, dtype: int64"
      ]
     },
     "execution_count": 10,
     "metadata": {},
     "output_type": "execute_result"
    }
   ],
   "source": [
    "df['city'].value_counts()"
   ]
  },
  {
   "cell_type": "code",
   "execution_count": 11,
   "metadata": {},
   "outputs": [
    {
     "data": {
      "text/plain": [
       "CA    769939\n",
       "Name: state, dtype: int64"
      ]
     },
     "execution_count": 11,
     "metadata": {},
     "output_type": "execute_result"
    }
   ],
   "source": [
    "df['state'].value_counts()"
   ]
  },
  {
   "cell_type": "markdown",
   "metadata": {},
   "source": [
    "As suspected, the city and state are all Oakland, California. With that in mind, we won't need to retain this information for any analysis. We can also drop the street address, as our purpose here will not require that level of detail. After that, we will split our req_address as longitutde and latitude, as this will enable us to map reports if desired. "
   ]
  },
  {
   "cell_type": "code",
   "execution_count": 12,
   "metadata": {},
   "outputs": [],
   "source": [
    "df.drop(['city', 'state', 'prob_address'], axis=1, inplace=True)"
   ]
  },
  {
   "cell_type": "code",
   "execution_count": 13,
   "metadata": {},
   "outputs": [],
   "source": [
    "lat_long = df['req_address'].str.strip('()')                               \\\n",
    "                   .str.split(', ', expand=True)                   \\\n",
    "                   .rename(columns={0:'Latitude', 1:'Longitude'}) "
   ]
  },
  {
   "cell_type": "code",
   "execution_count": 14,
   "metadata": {},
   "outputs": [],
   "source": [
    "df = pd.concat([df, lat_long], axis=1)"
   ]
  },
  {
   "cell_type": "code",
   "execution_count": 15,
   "metadata": {},
   "outputs": [],
   "source": [
    "df.drop('req_address', axis=1, inplace=True)"
   ]
  },
  {
   "cell_type": "code",
   "execution_count": 16,
   "metadata": {
    "scrolled": true
   },
   "outputs": [
    {
     "data": {
      "text/html": [
       "<div>\n",
       "<style scoped>\n",
       "    .dataframe tbody tr th:only-of-type {\n",
       "        vertical-align: middle;\n",
       "    }\n",
       "\n",
       "    .dataframe tbody tr th {\n",
       "        vertical-align: top;\n",
       "    }\n",
       "\n",
       "    .dataframe thead th {\n",
       "        text-align: right;\n",
       "    }\n",
       "</style>\n",
       "<table border=\"1\" class=\"dataframe\">\n",
       "  <thead>\n",
       "    <tr style=\"text-align: right;\">\n",
       "      <th></th>\n",
       "      <th>request_id</th>\n",
       "      <th>source</th>\n",
       "      <th>description</th>\n",
       "      <th>category</th>\n",
       "      <th>status</th>\n",
       "      <th>ref_to</th>\n",
       "      <th>date_closed</th>\n",
       "      <th>council_district</th>\n",
       "      <th>beat</th>\n",
       "      <th>Latitude</th>\n",
       "      <th>Longitude</th>\n",
       "    </tr>\n",
       "    <tr>\n",
       "      <th>DATETIMEINIT</th>\n",
       "      <th></th>\n",
       "      <th></th>\n",
       "      <th></th>\n",
       "      <th></th>\n",
       "      <th></th>\n",
       "      <th></th>\n",
       "      <th></th>\n",
       "      <th></th>\n",
       "      <th></th>\n",
       "      <th></th>\n",
       "      <th></th>\n",
       "    </tr>\n",
       "  </thead>\n",
       "  <tbody>\n",
       "    <tr>\n",
       "      <th>01/01/2011 05:51:45 PM</th>\n",
       "      <td>355940</td>\n",
       "      <td>Website</td>\n",
       "      <td>Other Engineering Issues</td>\n",
       "      <td>TRAFFIC</td>\n",
       "      <td>CLOSED</td>\n",
       "      <td>NaN</td>\n",
       "      <td>01/10/2011 09:11:45 AM</td>\n",
       "      <td>CCD1</td>\n",
       "      <td>13Y</td>\n",
       "      <td>37.88300604946682</td>\n",
       "      <td>-122.24580325665384</td>\n",
       "    </tr>\n",
       "    <tr>\n",
       "      <th>01/01/2011 10:10:58 PM</th>\n",
       "      <td>355941</td>\n",
       "      <td>Website</td>\n",
       "      <td>Streets - Potholes/Depression</td>\n",
       "      <td>STREETSW</td>\n",
       "      <td>CLOSED</td>\n",
       "      <td>NaN</td>\n",
       "      <td>09/26/2012 12:02:34 PM</td>\n",
       "      <td>CCD3</td>\n",
       "      <td>08X</td>\n",
       "      <td>37.81863505639732</td>\n",
       "      <td>-122.25415424155592</td>\n",
       "    </tr>\n",
       "    <tr>\n",
       "      <th>01/01/2012 03:24:15 PM</th>\n",
       "      <td>392547</td>\n",
       "      <td>Website</td>\n",
       "      <td>Litter - In Public Right of Way</td>\n",
       "      <td>ILLDUMP</td>\n",
       "      <td>CLOSED</td>\n",
       "      <td>NaN</td>\n",
       "      <td>01/06/2012 10:43:59 AM</td>\n",
       "      <td>CCD6</td>\n",
       "      <td>30X</td>\n",
       "      <td>37.758104646856275</td>\n",
       "      <td>-122.18478939507882</td>\n",
       "    </tr>\n",
       "    <tr>\n",
       "      <th>01/01/2012 03:38:18 PM</th>\n",
       "      <td>392548</td>\n",
       "      <td>Website</td>\n",
       "      <td>Litter - In Public Right of Way</td>\n",
       "      <td>ILLDUMP</td>\n",
       "      <td>CLOSED</td>\n",
       "      <td>NaN</td>\n",
       "      <td>01/04/2012 01:04:24 PM</td>\n",
       "      <td>CCD4</td>\n",
       "      <td>25X</td>\n",
       "      <td>37.7844124552679</td>\n",
       "      <td>-122.18081083730678</td>\n",
       "    </tr>\n",
       "    <tr>\n",
       "      <th>01/01/2012 04:12:18 PM</th>\n",
       "      <td>392549</td>\n",
       "      <td>Website</td>\n",
       "      <td>Animal and Insect Control</td>\n",
       "      <td>OTHER</td>\n",
       "      <td>REFERRED</td>\n",
       "      <td>OPD ANIMAL SERVICES,</td>\n",
       "      <td>NaN</td>\n",
       "      <td>CCD3</td>\n",
       "      <td>05X</td>\n",
       "      <td>37.81227417841407</td>\n",
       "      <td>-122.2805044255286</td>\n",
       "    </tr>\n",
       "  </tbody>\n",
       "</table>\n",
       "</div>"
      ],
      "text/plain": [
       "                       request_id   source                      description  \\\n",
       "DATETIMEINIT                                                                  \n",
       "01/01/2011 05:51:45 PM     355940  Website         Other Engineering Issues   \n",
       "01/01/2011 10:10:58 PM     355941  Website    Streets - Potholes/Depression   \n",
       "01/01/2012 03:24:15 PM     392547  Website  Litter - In Public Right of Way   \n",
       "01/01/2012 03:38:18 PM     392548  Website  Litter - In Public Right of Way   \n",
       "01/01/2012 04:12:18 PM     392549  Website        Animal and Insect Control   \n",
       "\n",
       "                        category    status                ref_to  \\\n",
       "DATETIMEINIT                                                       \n",
       "01/01/2011 05:51:45 PM   TRAFFIC    CLOSED                   NaN   \n",
       "01/01/2011 10:10:58 PM  STREETSW    CLOSED                   NaN   \n",
       "01/01/2012 03:24:15 PM   ILLDUMP    CLOSED                   NaN   \n",
       "01/01/2012 03:38:18 PM   ILLDUMP    CLOSED                   NaN   \n",
       "01/01/2012 04:12:18 PM     OTHER  REFERRED  OPD ANIMAL SERVICES,   \n",
       "\n",
       "                                   date_closed council_district beat  \\\n",
       "DATETIMEINIT                                                           \n",
       "01/01/2011 05:51:45 PM  01/10/2011 09:11:45 AM             CCD1  13Y   \n",
       "01/01/2011 10:10:58 PM  09/26/2012 12:02:34 PM             CCD3  08X   \n",
       "01/01/2012 03:24:15 PM  01/06/2012 10:43:59 AM             CCD6  30X   \n",
       "01/01/2012 03:38:18 PM  01/04/2012 01:04:24 PM             CCD4  25X   \n",
       "01/01/2012 04:12:18 PM                     NaN             CCD3  05X   \n",
       "\n",
       "                                  Latitude            Longitude  \n",
       "DATETIMEINIT                                                     \n",
       "01/01/2011 05:51:45 PM   37.88300604946682  -122.24580325665384  \n",
       "01/01/2011 10:10:58 PM   37.81863505639732  -122.25415424155592  \n",
       "01/01/2012 03:24:15 PM  37.758104646856275  -122.18478939507882  \n",
       "01/01/2012 03:38:18 PM    37.7844124552679  -122.18081083730678  \n",
       "01/01/2012 04:12:18 PM   37.81227417841407   -122.2805044255286  "
      ]
     },
     "execution_count": 16,
     "metadata": {},
     "output_type": "execute_result"
    }
   ],
   "source": [
    "df.head()"
   ]
  },
  {
   "cell_type": "markdown",
   "metadata": {},
   "source": [
    "Here we have cut down our dataframe to just the pieces of information important for our analysis and information gathering. "
   ]
  },
  {
   "cell_type": "markdown",
   "metadata": {},
   "source": [
    "## 1.3 Filling Null Values"
   ]
  },
  {
   "cell_type": "code",
   "execution_count": 17,
   "metadata": {},
   "outputs": [
    {
     "data": {
      "text/plain": [
       "request_id               0\n",
       "source                   0\n",
       "description              0\n",
       "category                80\n",
       "status                   0\n",
       "ref_to              704582\n",
       "date_closed         213273\n",
       "council_district     39390\n",
       "beat                 37390\n",
       "Latitude             13942\n",
       "Longitude            13942\n",
       "dtype: int64"
      ]
     },
     "execution_count": 17,
     "metadata": {},
     "output_type": "execute_result"
    }
   ],
   "source": [
    "df.isna().sum()"
   ]
  },
  {
   "cell_type": "markdown",
   "metadata": {},
   "source": [
    "Looking at null values, our first and lowest number is category. In this instance, especially with an 'Other' category already in place and considering the small number it should be safe to simply assign these null values as part of the 'other' category.<br><br>\n",
    "Next, we see ref_to. In a real-world environment, I would consult with the data engineer or personnel in the department to confirm, but again it should be safe to assume that these cases were not routed elsewhere. I.E., no referral was made. \n",
    "<br><br>\n",
    "Similarly, date_closed appears straightforward on the surface -we may approach this in various ways depending on our needs. I.E., we can leave them null, or if we need to make any assessments, we can easily split the data between those that are open and closed. Regardless, my first step here is to ensure all those without a date_closed value are in fact listed as 'OPEN' in the status column. \n",
    "<br><br>\n",
    "For council_district and beat, this gets a little trickier. However, if we do need to perform any data modeling, the percentage of null values is well under 10%, which will allow us to simply drop null values in those cases. For now, I will assign them both a generic value of 'uknw' to signify the data is unknown. \n",
    "<br><br>\n",
    "Finally, our null latitude and longitude will only impact our mapping efforts. When it comes time to map the data, I can simply drop these points as we lack meaningful insight. "
   ]
  },
  {
   "cell_type": "code",
   "execution_count": 18,
   "metadata": {},
   "outputs": [],
   "source": [
    "df['category'].fillna('OTHER', inplace=True)"
   ]
  },
  {
   "cell_type": "code",
   "execution_count": 19,
   "metadata": {},
   "outputs": [],
   "source": [
    "ref_to = df[df['ref_to'].isna()]"
   ]
  },
  {
   "cell_type": "code",
   "execution_count": 20,
   "metadata": {},
   "outputs": [
    {
     "data": {
      "text/plain": [
       "request_id          89\n",
       "source              89\n",
       "description         89\n",
       "category            89\n",
       "status              89\n",
       "ref_to               0\n",
       "date_closed          0\n",
       "council_district    89\n",
       "beat                89\n",
       "Latitude            89\n",
       "Longitude           89\n",
       "dtype: int64"
      ]
     },
     "execution_count": 20,
     "metadata": {},
     "output_type": "execute_result"
    }
   ],
   "source": [
    "ref_to[ref_to['status'] == 'REFERRED'].count()"
   ]
  },
  {
   "cell_type": "markdown",
   "metadata": {},
   "source": [
    "We see in checking that about 89 of the missing ref_to values are listed as \"Referred\" under status. For right now, we will still make the change, but put this note here to remind ourselves that these 89 instances should be revisited if we want the most accurate analysis. "
   ]
  },
  {
   "cell_type": "code",
   "execution_count": 21,
   "metadata": {},
   "outputs": [],
   "source": [
    "df['ref_to'].fillna('NOT REFERRED', inplace=True)"
   ]
  },
  {
   "cell_type": "code",
   "execution_count": 22,
   "metadata": {},
   "outputs": [],
   "source": [
    "not_closed = df[df['date_closed'].isna()]"
   ]
  },
  {
   "cell_type": "code",
   "execution_count": 23,
   "metadata": {},
   "outputs": [
    {
     "data": {
      "text/plain": [
       "request_id          6\n",
       "source              6\n",
       "description         6\n",
       "category            6\n",
       "status              6\n",
       "ref_to              6\n",
       "date_closed         0\n",
       "council_district    6\n",
       "beat                6\n",
       "Latitude            5\n",
       "Longitude           5\n",
       "dtype: int64"
      ]
     },
     "execution_count": 23,
     "metadata": {},
     "output_type": "execute_result"
    }
   ],
   "source": [
    "not_closed[not_closed['status'] == 'CLOSED'].count()"
   ]
  },
  {
   "cell_type": "markdown",
   "metadata": {},
   "source": [
    "I again include a note here to revist these six instances where there is a discrepency. For our purposes, we may be best to just drop these 6 results entirely. But, for now, we will proceed to fill this with a future data to make processing smoother. Keep in mind, we may revisit how this is processed later, as setting it in this fashion could interfere with key insights (i.e. is there a category where the time to close an issue is longer, or perhaps where issues aren't being properly closed at all?) "
   ]
  },
  {
   "cell_type": "code",
   "execution_count": 24,
   "metadata": {},
   "outputs": [],
   "source": [
    "df['date_closed'].fillna('12/31/2030 12:01:01 AM', inplace=True)"
   ]
  },
  {
   "cell_type": "code",
   "execution_count": 25,
   "metadata": {},
   "outputs": [],
   "source": [
    "df['date_closed'] = pd.to_datetime(df['date_closed'])"
   ]
  },
  {
   "cell_type": "code",
   "execution_count": 26,
   "metadata": {},
   "outputs": [],
   "source": [
    "df['council_district'].fillna('unkn', inplace=True)\n",
    "df['beat'].fillna('unkn', inplace=True)"
   ]
  },
  {
   "cell_type": "code",
   "execution_count": 27,
   "metadata": {},
   "outputs": [
    {
     "data": {
      "text/plain": [
       "request_id              0\n",
       "source                  0\n",
       "description             0\n",
       "category                0\n",
       "status                  0\n",
       "ref_to                  0\n",
       "date_closed             0\n",
       "council_district        0\n",
       "beat                    0\n",
       "Latitude            13942\n",
       "Longitude           13942\n",
       "dtype: int64"
      ]
     },
     "execution_count": 27,
     "metadata": {},
     "output_type": "execute_result"
    }
   ],
   "source": [
    "df.isna().sum()"
   ]
  },
  {
   "cell_type": "code",
   "execution_count": 28,
   "metadata": {},
   "outputs": [
    {
     "name": "stdout",
     "output_type": "stream",
     "text": [
      "<class 'pandas.core.frame.DataFrame'>\n",
      "Index: 769939 entries, 01/01/2011 05:51:45 PM to 12/31/2020 12:59:06 PM\n",
      "Data columns (total 11 columns):\n",
      " #   Column            Non-Null Count   Dtype         \n",
      "---  ------            --------------   -----         \n",
      " 0   request_id        769939 non-null  object        \n",
      " 1   source            769939 non-null  object        \n",
      " 2   description       769939 non-null  object        \n",
      " 3   category          769939 non-null  object        \n",
      " 4   status            769939 non-null  object        \n",
      " 5   ref_to            769939 non-null  object        \n",
      " 6   date_closed       769939 non-null  datetime64[ns]\n",
      " 7   council_district  769939 non-null  object        \n",
      " 8   beat              769939 non-null  object        \n",
      " 9   Latitude          755997 non-null  object        \n",
      " 10  Longitude         755997 non-null  object        \n",
      "dtypes: datetime64[ns](1), object(10)\n",
      "memory usage: 70.5+ MB\n"
     ]
    }
   ],
   "source": [
    "df.info()"
   ]
  },
  {
   "cell_type": "markdown",
   "metadata": {},
   "source": [
    "Again, we note that latitude and longitude still have null values. Since we will only really be using those for mapping, we will leave those null for now.<br><br>\n",
    "Further, we note that all entries are of the object Dtype except date_closed. When we get to modeling our data, we can look at transforming some of this data to better be understood by machine learning. For our initial analysis however, it's better to leave as is for clarity. "
   ]
  },
  {
   "cell_type": "markdown",
   "metadata": {},
   "source": [
    "# 2.0 Exploratory Data Analysis (EDA)"
   ]
  },
  {
   "cell_type": "code",
   "execution_count": 29,
   "metadata": {},
   "outputs": [
    {
     "data": {
      "text/plain": [
       "SeeClickFix       331993\n",
       "Phone             148900\n",
       "Phone or Email    147508\n",
       "Website            77235\n",
       "Email              48850\n",
       "Voicemail          10743\n",
       "Other               4518\n",
       "City Attorney        192\n",
       "Name: source, dtype: int64"
      ]
     },
     "execution_count": 29,
     "metadata": {},
     "output_type": "execute_result"
    }
   ],
   "source": [
    "df['source'].value_counts()"
   ]
  },
  {
   "cell_type": "markdown",
   "metadata": {},
   "source": [
    "We see by far that SeeClickFix is the most popular method of citizens to make contact for these incidents. We'll explore later if this might hold true across all categories of reports. "
   ]
  },
  {
   "cell_type": "code",
   "execution_count": 30,
   "metadata": {},
   "outputs": [
    {
     "data": {
      "text/plain": [
       "Illegal Dumping - debris, appliances, etc.     179989\n",
       "Illegal Dumping � mattress/boxspring            43276\n",
       "Parking - Abandoned Vehicle                     43129\n",
       "Streets - Potholes/Depression                   33597\n",
       "Code Enforcement                                25127\n",
       "                                                ...  \n",
       "Other City Services - Internal (Test)               1\n",
       "Residential Recycling - Pre-6AM Collection          1\n",
       "This is a test subject. Ignore this ticket.         1\n",
       "Curb Ramp - Install/Repair - ADA Request            1\n",
       "Other Facilities Services (elevator)                1\n",
       "Name: description, Length: 443, dtype: int64"
      ]
     },
     "execution_count": 30,
     "metadata": {},
     "output_type": "execute_result"
    }
   ],
   "source": [
    "df['description'].value_counts()"
   ]
  },
  {
   "cell_type": "markdown",
   "metadata": {},
   "source": [
    "As suspected, this category should be reexamined by leadership. Specifically, we see only 443 different entries. This, combined with the large numbers at the top, suggest there ought to be standard descriptions in place. Rather than the \"one-off\" descriptions that are being added. <br><br>\n",
    "Specifically, I would recommend limiting these descriptions to as few as possible to ensure consistency in reports. Ideally, no more than 20-30 overarching descriptors should suffice. When training new agents and when evaluating existing agents, it is important that they hold to a standard description for individual issues. <br><br>\n",
    "If more details are required, or if a subject comes up that does not perfectly fit a standard descriptor, agents should have the ability to take additional notes to include with their report. "
   ]
  },
  {
   "cell_type": "code",
   "execution_count": 31,
   "metadata": {},
   "outputs": [
    {
     "data": {
      "text/plain": [
       "ILLDUMP           282937\n",
       "OTHER              73805\n",
       "BLDGMAINT          65693\n",
       "STREETSW           45320\n",
       "POLICE             43132\n",
       "GRAFFITI           34040\n",
       "ELECTRICAL         30757\n",
       "RECYCLING          27861\n",
       "TREES              26651\n",
       "TRAFFIC            20906\n",
       "PARKS              19703\n",
       "TRAFFIC_ENGIN      14370\n",
       "SEWERS             13559\n",
       "DRAINAGE           11265\n",
       "METER_REPAIR        8668\n",
       "PARKING             8599\n",
       "HE_CLEAN            7751\n",
       "ROW_INSPECTORS      7512\n",
       "KOCB                6434\n",
       "ROW_STREETSW        5987\n",
       "FIRE                5279\n",
       "ROW                 4371\n",
       "CUT_CLEAN           3981\n",
       "CW_DIT_GIS           518\n",
       "WATERSHED            446\n",
       "FACILITIES           321\n",
       "VEGCONTR              39\n",
       "SURVEY                27\n",
       "GIS                    4\n",
       "LAB                    2\n",
       "OPD                    1\n",
       "Name: category, dtype: int64"
      ]
     },
     "execution_count": 31,
     "metadata": {},
     "output_type": "execute_result"
    }
   ],
   "source": [
    "df['category'].value_counts()"
   ]
  },
  {
   "cell_type": "markdown",
   "metadata": {},
   "source": [
    "Here we see more of the categorization that can help organize and sort the data. However, there is likely still some overlap among categories that can be limited. <br><br>\n",
    "Aside from reevaluating this, I note here that illegal dumping seems to take up nearly a third of the incidents being reported. Other is the second highest. In the latter case, I'll want to dig into these incidents and explore the description column to see if that helps explain the \"other\" category. \n",
    "<br><br>\n",
    "Regardless, the rest of the data can be examined more closely later. For now, we have a foundational understanding of the data and what we should expect. To make this easier for other to interpret, we'll move onto visual EDA."
   ]
  },
  {
   "cell_type": "markdown",
   "metadata": {},
   "source": [
    "## 2.1 Visual EDA"
   ]
  },
  {
   "cell_type": "code",
   "execution_count": 32,
   "metadata": {},
   "outputs": [],
   "source": [
    "source = df['source'].value_counts()"
   ]
  },
  {
   "cell_type": "code",
   "execution_count": 37,
   "metadata": {},
   "outputs": [
    {
     "data": {
      "image/png": "[encoded data removed]",
      "text/plain": [
       "<Figure size 864x432 with 1 Axes>"
      ]
     },
     "metadata": {},
     "output_type": "display_data"
    }
   ],
   "source": [
    "source.plot(kind='bar', figsize=(12,6))\n",
    "plt.style.use('seaborn')\n",
    "plt.title('Report Mediums', fontsize=18)\n",
    "plt.xticks(rotation=45)\n",
    "plt.xlabel('Report Made Through', fontsize=12)\n",
    "plt.ylabel('Number of Reports', fontsize=12);"
   ]
  },
  {
   "cell_type": "code",
   "execution_count": null,
   "metadata": {},
   "outputs": [],
   "source": []
  }
 ],
 "metadata": {
  "kernelspec": {
   "display_name": "Python 3",
   "language": "python",
   "name": "python3"
  },
  "language_info": {
   "codemirror_mode": {
    "name": "ipython",
    "version": 3
   },
   "file_extension": ".py",
   "mimetype": "text/x-python",
   "name": "python",
   "nbconvert_exporter": "python",
   "pygments_lexer": "ipython3",
   "version": "3.8.5"
  }
 },
 "nbformat": 4,
 "nbformat_minor": 4
}
